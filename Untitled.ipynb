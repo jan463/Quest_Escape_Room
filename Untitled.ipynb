{
 "cells": [
  {
   "cell_type": "code",
   "execution_count": null,
   "id": "434dd550",
   "metadata": {},
   "outputs": [],
   "source": []
  },
  {
   "cell_type": "code",
   "execution_count": 7,
   "id": "bfb33d69",
   "metadata": {},
   "outputs": [],
   "source": [
    "a = \"abc\""
   ]
  },
  {
   "cell_type": "code",
   "execution_count": 8,
   "id": "b452fa20",
   "metadata": {},
   "outputs": [],
   "source": [
    "b = \"def\""
   ]
  },
  {
   "cell_type": "code",
   "execution_count": 17,
   "id": "970d43e9",
   "metadata": {},
   "outputs": [],
   "source": [
    "def merge_strings(a: str, b: str) -> str:\n",
    "    len(a)\n",
    "    len(b)\n",
    "    if len(a) < len(b):\n",
    "        smaller = len(a)\n",
    "        bigger = len(b)\n",
    "    else:\n",
    "        smaller = len(b)\n",
    "        bigger = len(a)\n",
    "    c = list()\n",
    "    \n",
    "    for i in range(1, smaller+1):\n",
    "        c.append(a[i-1])\n",
    "        c.append(b[i-1])\n",
    "    print(c)\n",
    "    print(smaller)\n",
    "    if smaller == len(a):\n",
    "        for i in range(smaller+1, -1):\n",
    "            c.append(b[i-1])\n",
    "    else:\n",
    "        for i in range(smaller+1, -1):\n",
    "            c.append(a[i-1])\n",
    "    merged_string = \"\".join(c)\n",
    "    return merged_string"
   ]
  },
  {
   "cell_type": "code",
   "execution_count": 18,
   "id": "882a5878",
   "metadata": {},
   "outputs": [
    {
     "name": "stdout",
     "output_type": "stream",
     "text": [
      "['a', 'd', 'b', 'e', 'c', 'f']\n",
      "3\n"
     ]
    },
    {
     "data": {
      "text/plain": [
       "'adbecf'"
      ]
     },
     "execution_count": 18,
     "metadata": {},
     "output_type": "execute_result"
    }
   ],
   "source": [
    "merge_strings(a, b)"
   ]
  },
  {
   "cell_type": "code",
   "execution_count": null,
   "id": "e8324d9b",
   "metadata": {},
   "outputs": [],
   "source": []
  },
  {
   "cell_type": "code",
   "execution_count": null,
   "id": "5c54fe8c",
   "metadata": {},
   "outputs": [],
   "source": []
  },
  {
   "cell_type": "code",
   "execution_count": null,
   "id": "419e3280",
   "metadata": {},
   "outputs": [],
   "source": [
    "def high_and_low(numbers: str) -> str:\n",
    "    my_list = list(numbers.split())\n",
    "    smallest = min(my_list)\n",
    "    biggest = max(my_list)\n",
    "    my_string = str(f\"{biggest} {smallest}\")\n",
    "    \n",
    "    return my_string"
   ]
  },
  {
   "cell_type": "code",
   "execution_count": null,
   "id": "dd390799",
   "metadata": {},
   "outputs": [],
   "source": []
  },
  {
   "cell_type": "code",
   "execution_count": null,
   "id": "1527d635",
   "metadata": {},
   "outputs": [],
   "source": []
  },
  {
   "cell_type": "code",
   "execution_count": null,
   "id": "9b0d8337",
   "metadata": {},
   "outputs": [],
   "source": []
  }
 ],
 "metadata": {
  "kernelspec": {
   "display_name": "Python 3 (ipykernel)",
   "language": "python",
   "name": "python3"
  },
  "language_info": {
   "codemirror_mode": {
    "name": "ipython",
    "version": 3
   },
   "file_extension": ".py",
   "mimetype": "text/x-python",
   "name": "python",
   "nbconvert_exporter": "python",
   "pygments_lexer": "ipython3",
   "version": "3.11.7"
  }
 },
 "nbformat": 4,
 "nbformat_minor": 5
}
